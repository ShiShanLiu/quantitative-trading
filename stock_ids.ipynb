{
 "cells": [
  {
   "cell_type": "code",
   "execution_count": 1,
   "metadata": {},
   "outputs": [
    {
     "name": "stderr",
     "output_type": "stream",
     "text": [
      "c:\\Users\\ASUS\\anaconda3\\envs\\workEnv\\Lib\\site-packages\\pandas\\core\\arrays\\masked.py:60: UserWarning: Pandas requires version '1.3.6' or newer of 'bottleneck' (version '1.3.5' currently installed).\n",
      "  from pandas.core import (\n"
     ]
    }
   ],
   "source": [
    "import pandas as pd\n",
    "import json"
   ]
  },
  {
   "cell_type": "code",
   "execution_count": 8,
   "metadata": {},
   "outputs": [
    {
     "data": {
      "text/plain": [
       "'{\\n    \"英業達\": 2356,\\n    \"華碩\": 2357,\\n    \"藍天\": 2362,\\n    \"技嘉\": 2376,\\n    \"微星\": 2377,\\n    \"廣達\": 2382,\\n    \"聯發科\": 2454,\\n    \"神基\": 3005,\\n    \"欣興\": 3037,\\n    \"緯創\": 3231,\\n    \"日月光投控\": 3711,\\n    \"譜瑞-KY\": 4966,\\n    \"祥碩\": 5269,\\n    \"新普\": 6121,\\n    \"仁寶\": 2324,\\n    \"台積電\": 2330,\\n    \"宏碁\": 2353\\n}'"
      ]
     },
     "execution_count": 8,
     "metadata": {},
     "output_type": "execute_result"
    }
   ],
   "source": [
    "# AIPC\n",
    "AIPC = {\n",
    "    \"英業達\": 2356,\n",
    "    \"華碩\": 2357,\n",
    "    \"藍天\": 2362,\n",
    "    \"技嘉\": 2376,\n",
    "    \"微星\": 2377,\n",
    "    \"廣達\": 2382,\n",
    "    \"聯發科\": 2454,\n",
    "    \"神基\": 3005,\n",
    "    \"欣興\": 3037,\n",
    "    \"緯創\": 3231,\n",
    "    \"日月光投控\": 3711,\n",
    "    \"譜瑞-KY\": 4966,\n",
    "    \"祥碩\": 5269,\n",
    "    \"新普\": 6121,\n",
    "    \"仁寶\": 2324,\n",
    "    \"台積電\": 2330,\n",
    "    \"宏碁\": 2353\n",
    "}\n",
    "\n",
    "aipc_ids_json = json.dumps(AIPC, ensure_ascii=False, indent=4)\n",
    "aipc_ids_json"
   ]
  },
  {
   "cell_type": "code",
   "execution_count": 9,
   "metadata": {},
   "outputs": [],
   "source": [
    "with open(\"stock_ids/AIPC_概念股.json\", \"w\", encoding=\"UTF-8\") as f:\n",
    "    f.write(aipc_ids_json)"
   ]
  },
  {
   "cell_type": "code",
   "execution_count": 10,
   "metadata": {},
   "outputs": [
    {
     "data": {
      "text/plain": [
       "'{\\n    \"中砂\": 1560,\\n    \"楠梓電\": 2316,\\n    \"台積電\": 2330,\\n    \"京元電子\": 2449,\\n    \"至聖\": 2467,\\n    \"欣興\": 3037,\\n    \"弘塑\": 3131,\\n    \"創意\": 3443,\\n    \"辛耘\": 3583,\\n    \"家登\": 3680,\\n    \"日月光投控\": 3711,\\n    \"萬潤\": 6187,\\n    \"雷科\": 6207,\\n    \"旺矽\": 6223,\\n    \"穎崴\": 6515,\\n    \"均華\": 6640,\\n    \"信紘科\": 6667,\\n    \"鈦昇\": 8027\\n}'"
      ]
     },
     "execution_count": 10,
     "metadata": {},
     "output_type": "execute_result"
    }
   ],
   "source": [
    "# CoWoS\n",
    "cowos = {\n",
    "    \"中砂\": 1560,\n",
    "    \"楠梓電\": 2316,\n",
    "    \"台積電\": 2330,\n",
    "    \"京元電子\": 2449,\n",
    "    \"至聖\": 2467,\n",
    "    \"欣興\": 3037,\n",
    "    \"弘塑\": 3131,\n",
    "    \"創意\": 3443,\n",
    "    \"辛耘\": 3583,\n",
    "    \"家登\": 3680,\n",
    "    \"日月光投控\": 3711,\n",
    "    \"萬潤\": 6187,\n",
    "    \"雷科\": 6207,\n",
    "    \"旺矽\": 6223,\n",
    "    \"穎崴\": 6515,\n",
    "    \"均華\": 6640,\n",
    "    \"信紘科\": 6667,\n",
    "    \"鈦昇\": 8027\n",
    "}\n",
    "\n",
    "cowos_json = json.dumps(cowos, ensure_ascii=False, indent=4)\n",
    "cowos_json"
   ]
  },
  {
   "cell_type": "code",
   "execution_count": 11,
   "metadata": {},
   "outputs": [],
   "source": [
    "with open(\"stock_ids/CoWoS_概念股.json\", \"w\", encoding=\"UTF-8\") as f:\n",
    "    f.write(cowos_json)"
   ]
  }
 ],
 "metadata": {
  "kernelspec": {
   "display_name": "workEnv",
   "language": "python",
   "name": "python3"
  },
  "language_info": {
   "codemirror_mode": {
    "name": "ipython",
    "version": 3
   },
   "file_extension": ".py",
   "mimetype": "text/x-python",
   "name": "python",
   "nbconvert_exporter": "python",
   "pygments_lexer": "ipython3",
   "version": "3.11.3"
  }
 },
 "nbformat": 4,
 "nbformat_minor": 2
}
