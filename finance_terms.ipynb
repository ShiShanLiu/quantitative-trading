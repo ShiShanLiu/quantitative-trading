{
 "cells": [
  {
   "cell_type": "code",
   "execution_count": 1,
   "metadata": {},
   "outputs": [],
   "source": [
    "import json"
   ]
  },
  {
   "cell_type": "code",
   "execution_count": 7,
   "metadata": {},
   "outputs": [
    {
     "data": {
      "text/plain": [
       "'{\\n    \"Free Cash Flow\": \"自由現金流\",\\n    \"Repayment Of Debt\": \"償還債務\",\\n    \"Issuance Of Debt\": \"發行債務\",\\n    \"Capital Expenditure\": \"資本支出\",\\n    \"End Cash Position\": \"期末現金餘額\",\\n    \"Beginning Cash Position\": \"期初現金餘額\",\\n    \"Effect Of Exchange Rate Changes\": \"匯率變動影響\",\\n    \"Changes In Cash\": \"現金變動\",\\n    \"Financing Cash Flow\": \"融資現金流\",\\n    \"Net Other Financing Charges\": \"其他融資淨費用\",\\n    \"Cash Dividends Paid\": \"支付現金股利\",\\n    \"Net Issuance Payments Of Debt\": \"債務發行淨支付\",\\n    \"Net Short Term Debt Issuance\": \"短期債務淨發行\",\\n    \"Short Term Debt Payments\": \"短期債務支付\",\\n    \"Short Term Debt Issuance\": \"短期債務發行\",\\n    \"Investing Cash Flow\": \"投資現金流\",\\n    \"Net Other Investing Changes\": \"其他投資淨變動\",\\n    \"Dividends Received Cfi\": \"收到的股利投資現金流\",\\n    \"Net Investment Purchase And Sale\": \"投資購買和銷售淨額\",\\n    \"Sale Of Investment\": \"投資銷售\",\\n    \"Purchase Of Investment\": \"購買投資\",\\n    \"Net Investment Properties Purchase And Sale\": \"投資性不動產購買和銷售淨額\",\\n    \"Sale Of Investment Properties\": \"投資性不動產銷售\",\\n    \"Net Business Purchase And Sale\": \"業務購買和銷售淨額\",\\n    \"Sale Of Business\": \"業務銷售\",\\n    \"Purchase Of Business\": \"購買業務\",\\n    \"Net Intangibles Purchase And Sale\": \"無形資產購買和銷售淨額\",\\n    \"Purchase Of Intangibles\": \"購買無形資產\",\\n    \"Net PPE Purchase And Sale\": \"固定資產購買和銷售淨額\",\\n    \"Sale Of PPE\": \"固定資產銷售\",\\n    \"Purchase Of PPE\": \"購買固定資產\",\\n    \"Operating Cash Flow\": \"經營現金流\",\\n    \"Taxes Refund Paid\": \"退稅支付\",\\n    \"Interest Received Cfo\": \"收到的利息經營現金流\",\\n    \"Interest Paid Cfo\": \"支付的利息經營現金流\",\\n    \"Change In Working Capital\": \"營運資本變動\",\\n    \"Change In Other Current Liabilities\": \"其他流動負債變動\",\\n    \"Change In Other Current Assets\": \"其他流動資產變動\",\\n    \"Change In Payable\": \"應付款項變動\",\\n    \"Change In Prepaid Assets\": \"預付資產變動\",\\n    \"Change In Inventory\": \"存貨變動\",\\n    \"Change In Receivables\": \"應收帳款變動\",\\n    \"Other Non Cash Items\": \"其他非現金項目\",\\n    \"Provisionand Write Offof Assets\": \"資產準備和註銷\",\\n    \"Depreciation And Amortization\": \"折舊與攤銷\",\\n    \"Amortization Cash Flow\": \"攤銷現金流\",\\n    \"Depreciation\": \"折舊\",\\n    \"Gain Loss On Investment Securities\": \"投資證券損益\",\\n    \"Gain Loss On Sale Of PPE\": \"固定資產銷售損益\",\\n    \"Gain Loss On Sale Of Business\": \"業務銷售損益\",\\n    \"Net Income From Continuing Operations\": \"持續經營業務淨收入\"\\n}'"
      ]
     },
     "execution_count": 7,
     "metadata": {},
     "output_type": "execute_result"
    }
   ],
   "source": [
    "cashflow_terms = {\n",
    "    \"Free Cash Flow\": \"自由現金流\",\n",
    "    \"Repayment Of Debt\": \"償還債務\",\n",
    "    \"Issuance Of Debt\": \"發行債務\",\n",
    "    \"Capital Expenditure\": \"資本支出\",\n",
    "    \"End Cash Position\": \"期末現金餘額\",\n",
    "    \"Beginning Cash Position\": \"期初現金餘額\",\n",
    "    \"Effect Of Exchange Rate Changes\": \"匯率變動影響\",\n",
    "    \"Changes In Cash\": \"現金變動\",\n",
    "    \"Financing Cash Flow\": \"融資現金流\",\n",
    "    \"Net Other Financing Charges\": \"其他融資淨費用\",\n",
    "    \"Cash Dividends Paid\": \"支付現金股利\",\n",
    "    \"Net Issuance Payments Of Debt\": \"債務發行淨支付\",\n",
    "    \"Net Short Term Debt Issuance\": \"短期債務淨發行\",\n",
    "    \"Short Term Debt Payments\": \"短期債務支付\",\n",
    "    \"Short Term Debt Issuance\": \"短期債務發行\",\n",
    "    \"Investing Cash Flow\": \"投資現金流\",\n",
    "    \"Net Other Investing Changes\": \"其他投資淨變動\",\n",
    "    \"Dividends Received Cfi\": \"收到的股利投資現金流\",\n",
    "    \"Net Investment Purchase And Sale\": \"投資購買和銷售淨額\",\n",
    "    \"Sale Of Investment\": \"投資銷售\",\n",
    "    \"Purchase Of Investment\": \"購買投資\",\n",
    "    \"Net Investment Properties Purchase And Sale\": \"投資性不動產購買和銷售淨額\",\n",
    "    \"Sale Of Investment Properties\": \"投資性不動產銷售\",\n",
    "    \"Net Business Purchase And Sale\": \"業務購買和銷售淨額\",\n",
    "    \"Sale Of Business\": \"業務銷售\",\n",
    "    \"Purchase Of Business\": \"購買業務\",\n",
    "    \"Net Intangibles Purchase And Sale\": \"無形資產購買和銷售淨額\",\n",
    "    \"Purchase Of Intangibles\": \"購買無形資產\",\n",
    "    \"Net PPE Purchase And Sale\": \"固定資產購買和銷售淨額\",\n",
    "    \"Sale Of PPE\": \"固定資產銷售\",\n",
    "    \"Purchase Of PPE\": \"購買固定資產\",\n",
    "    \"Operating Cash Flow\": \"經營現金流\",\n",
    "    \"Taxes Refund Paid\": \"退稅支付\",\n",
    "    \"Interest Received Cfo\": \"收到的利息經營現金流\",\n",
    "    \"Interest Paid Cfo\": \"支付的利息經營現金流\",\n",
    "    \"Change In Working Capital\": \"營運資本變動\",\n",
    "    \"Change In Other Current Liabilities\": \"其他流動負債變動\",\n",
    "    \"Change In Other Current Assets\": \"其他流動資產變動\",\n",
    "    \"Change In Payable\": \"應付款項變動\",\n",
    "    \"Change In Prepaid Assets\": \"預付資產變動\",\n",
    "    \"Change In Inventory\": \"存貨變動\",\n",
    "    \"Change In Receivables\": \"應收帳款變動\",\n",
    "    \"Other Non Cash Items\": \"其他非現金項目\",\n",
    "    \"Provisionand Write Offof Assets\": \"資產準備和註銷\",\n",
    "    \"Depreciation And Amortization\": \"折舊與攤銷\",\n",
    "    \"Amortization Cash Flow\": \"攤銷現金流\",\n",
    "    \"Depreciation\": \"折舊\",\n",
    "    \"Gain Loss On Investment Securities\": \"投資證券損益\",\n",
    "    \"Gain Loss On Sale Of PPE\": \"固定資產銷售損益\",\n",
    "    \"Gain Loss On Sale Of Business\": \"業務銷售損益\",\n",
    "    \"Net Income From Continuing Operations\": \"持續經營業務淨收入\"\n",
    "}\n",
    "\n",
    "# Convert the Python dictionary to a JSON string\n",
    "cashflow_terms_json = json.dumps(cashflow_terms, ensure_ascii=False, indent=4)\n",
    "cashflow_terms_json"
   ]
  },
  {
   "cell_type": "code",
   "execution_count": 8,
   "metadata": {},
   "outputs": [],
   "source": [
    "with open(\"terms/cashflow_terms.json\", \"w\", encoding=\"UTF-8\") as file:\n",
    "    file.write(cashflow_terms_json)"
   ]
  },
  {
   "cell_type": "code",
   "execution_count": 12,
   "metadata": {},
   "outputs": [
    {
     "data": {
      "text/plain": [
       "'{\\n    \"Tax Effect Of Unusual Items\": \"異常項目的稅效應\",\\n    \"Tax Rate For Calcs\": \"計算的稅率\",\\n    \"Normalized EBITDA\": \"標準化EBITDA\",\\n    \"Total Unusual Items\": \"異常項目總數\",\\n    \"Total Unusual Items Excluding Goodwill\": \"排除商譽的異常項目總數\",\\n    \"Net Income From Continuing Operation Net Minority Interest\": \"來自持續經營業務的淨收入淨少數股東權益\",\\n    \"Reconciled Depreciation\": \"調節折舊\",\\n    \"Reconciled Cost Of Revenue\": \"調節收入成本\",\\n    \"EBITDA\": \"息稅折舊前利潤\",\\n    \"EBIT\": \"稅前息前利潤\",\\n    \"Net Interest Income\": \"淨利息收入\",\\n    \"Interest Expense\": \"利息費用\",\\n    \"Interest Income\": \"利息收入\",\\n    \"Normalized Income\": \"標準化收入\",\\n    \"Net Income From Continuing And Discontinued Operation\": \"來自持續和停業營運的淨收入\",\\n    \"Total Expenses\": \"總費用\",\\n    \"Diluted Average Shares\": \"摊薄的平均股份\",\\n    \"Basic Average Shares\": \"基本平均股份\",\\n    \"Diluted EPS\": \"摊薄每股收益\",\\n    \"Basic EPS\": \"基本每股收益\",\\n    \"Diluted NI Availto Com Stockholders\": \"摊薄的可供普通股股東的淨收入\",\\n    \"Net Income Common Stockholders\": \"普通股股東的淨收入\",\\n    \"Otherunder Preferred Stock Dividend\": \"其他首選股股息\",\\n    \"Net Income\": \"淨收入\",\\n    \"Minority Interests\": \"少數股東權益\",\\n    \"Net Income Including Noncontrolling Interests\": \"包括非控制權益的淨收入\",\\n    \"Net Income Discontinuous Operations\": \"停業營運的淨收入\",\\n    \"Net Income Continuous Operations\": \"持續營運的淨收入\",\\n    \"Tax Provision\": \"稅項規定\",\\n    \"Pretax Income\": \"稅前收入\",\\n    \"Other Non Operating Income Expenses\": \"其他非營業收入費用\",\\n    \"Special Income Charges\": \"特殊收入費用\",\\n    \"Write Off\": \"註銷\",\\n    \"Net Non Operating Interest Income Expense\": \"淨非營業利息收入費用\",\\n    \"Interest Expense Non Operating\": \"非營業利息費用\",\\n    \"Interest Income Non Operating\": \"非營業利息收入\",\\n    \"Operating Income\": \"營業收入\",\\n    \"Operating Expense\": \"營業費用\",\\n    \"Other Operating Expenses\": \"其他營業費用\",\\n    \"Selling General And Administration\": \"銷售一般及行政\",\\n    \"Selling And Marketing Expense\": \"銷售和市場營銷費用\",\\n    \"General And Administrative Expense\": \"一般及行政費用\",\\n    \"Gross Profit\": \"毛利\",\\n    \"Cost Of Revenue\": \"收入成本\",\\n    \"Total Revenue\": \"總收入\",\\n    \"Operating Revenue\": \"營業收入\"\\n}'"
      ]
     },
     "execution_count": 12,
     "metadata": {},
     "output_type": "execute_result"
    }
   ],
   "source": [
    "incomestatement_terms = {\n",
    "    \"Tax Effect Of Unusual Items\": \"異常項目的稅效應\",\n",
    "    \"Tax Rate For Calcs\": \"計算的稅率\",\n",
    "    \"Normalized EBITDA\": \"標準化EBITDA\",\n",
    "    \"Total Unusual Items\": \"異常項目總數\",\n",
    "    \"Total Unusual Items Excluding Goodwill\": \"排除商譽的異常項目總數\",\n",
    "    \"Net Income From Continuing Operation Net Minority Interest\": \"來自持續經營業務的淨收入淨少數股東權益\",\n",
    "    \"Reconciled Depreciation\": \"調節折舊\",\n",
    "    \"Reconciled Cost Of Revenue\": \"調節收入成本\",\n",
    "    \"EBITDA\": \"息稅折舊前利潤\",\n",
    "    \"EBIT\": \"稅前息前利潤\",\n",
    "    \"Net Interest Income\": \"淨利息收入\",\n",
    "    \"Interest Expense\": \"利息費用\",\n",
    "    \"Interest Income\": \"利息收入\",\n",
    "    \"Normalized Income\": \"標準化收入\",\n",
    "    \"Net Income From Continuing And Discontinued Operation\": \"來自持續和停業營運的淨收入\",\n",
    "    \"Total Expenses\": \"總費用\",\n",
    "    \"Diluted Average Shares\": \"摊薄的平均股份\",\n",
    "    \"Basic Average Shares\": \"基本平均股份\",\n",
    "    \"Diluted EPS\": \"摊薄每股收益\",\n",
    "    \"Basic EPS\": \"基本每股收益\",\n",
    "    \"Diluted NI Availto Com Stockholders\": \"摊薄的可供普通股股東的淨收入\",\n",
    "    \"Net Income Common Stockholders\": \"普通股股東的淨收入\",\n",
    "    \"Otherunder Preferred Stock Dividend\": \"其他首選股股息\",\n",
    "    \"Net Income\": \"淨收入\",\n",
    "    \"Minority Interests\": \"少數股東權益\",\n",
    "    \"Net Income Including Noncontrolling Interests\": \"包括非控制權益的淨收入\",\n",
    "    \"Net Income Discontinuous Operations\": \"停業營運的淨收入\",\n",
    "    \"Net Income Continuous Operations\": \"持續營運的淨收入\",\n",
    "    \"Tax Provision\": \"稅項規定\",\n",
    "    \"Pretax Income\": \"稅前收入\",\n",
    "    \"Other Non Operating Income Expenses\": \"其他非營業收入費用\",\n",
    "    \"Special Income Charges\": \"特殊收入費用\",\n",
    "    \"Write Off\": \"註銷\",\n",
    "    \"Net Non Operating Interest Income Expense\": \"淨非營業利息收入費用\",\n",
    "    \"Interest Expense Non Operating\": \"非營業利息費用\",\n",
    "    \"Interest Income Non Operating\": \"非營業利息收入\",\n",
    "    \"Operating Income\": \"營業收入\",\n",
    "    \"Operating Expense\": \"營業費用\",\n",
    "    \"Other Operating Expenses\": \"其他營業費用\",\n",
    "    \"Selling General And Administration\": \"銷售一般及行政\",\n",
    "    \"Selling And Marketing Expense\": \"銷售和市場營銷費用\",\n",
    "    \"General And Administrative Expense\": \"一般及行政費用\",\n",
    "    \"Gross Profit\": \"毛利\",\n",
    "    \"Cost Of Revenue\": \"收入成本\",\n",
    "    \"Total Revenue\": \"總收入\",\n",
    "    \"Operating Revenue\": \"營業收入\"\n",
    "}\n",
    "# Convert the Python dictionary to a JSON string\n",
    "incomestatement_terms_json = json.dumps(incomestatement_terms, ensure_ascii=False, indent=4)\n",
    "incomestatement_terms_json"
   ]
  },
  {
   "cell_type": "code",
   "execution_count": 13,
   "metadata": {},
   "outputs": [],
   "source": [
    "with open(\"terms/incomestatement_terms.json\", \"w\", encoding=\"UTF-8\") as file:\n",
    "    file.write(incomestatement_terms_json)"
   ]
  },
  {
   "cell_type": "code",
   "execution_count": 14,
   "metadata": {},
   "outputs": [
    {
     "data": {
      "text/plain": [
       "'{\\n    \"Tax Effect Of Unusual Items\": \"異常項目的稅效應\",\\n    \"Tax Rate For Calcs\": \"計算的稅率\",\\n    \"Normalized EBITDA\": \"標準化EBITDA\",\\n    \"Total Unusual Items\": \"異常項目總數\",\\n    \"Total Unusual Items Excluding Goodwill\": \"排除商譽的異常項目總數\",\\n    \"Net Income From Continuing Operation Net Minority Interest\": \"來自持續經營業務的淨收入淨少數股東權益\",\\n    \"Reconciled Depreciation\": \"調節折舊\",\\n    \"Reconciled Cost Of Revenue\": \"調節收入成本\",\\n    \"EBITDA\": \"息稅折舊前利潤\",\\n    \"EBIT\": \"稅前息前利潤\",\\n    \"Net Interest Income\": \"淨利息收入\",\\n    \"Interest Expense\": \"利息費用\",\\n    \"Interest Income\": \"利息收入\",\\n    \"Normalized Income\": \"標準化收入\",\\n    \"Net Income From Continuing And Discontinued Operation\": \"來自持續和停業營運的淨收入\",\\n    \"Total Expenses\": \"總費用\",\\n    \"Diluted Average Shares\": \"摊薄的平均股份\",\\n    \"Basic Average Shares\": \"基本平均股份\",\\n    \"Diluted EPS\": \"摊薄每股收益\",\\n    \"Basic EPS\": \"基本每股收益\",\\n    \"Diluted NI Availto Com Stockholders\": \"摊薄的可供普通股股東的淨收入\",\\n    \"Net Income Common Stockholders\": \"普通股股東的淨收入\",\\n    \"Otherunder Preferred Stock Dividend\": \"其他首選股股息\",\\n    \"Net Income\": \"淨收入\",\\n    \"Minority Interests\": \"少數股東權益\",\\n    \"Net Income Including Noncontrolling Interests\": \"包括非控制權益的淨收入\",\\n    \"Net Income Discontinuous Operations\": \"停業營運的淨收入\",\\n    \"Net Income Continuous Operations\": \"持續營運的淨收入\",\\n    \"Tax Provision\": \"稅項規定\",\\n    \"Pretax Income\": \"稅前收入\",\\n    \"Other Non Operating Income Expenses\": \"其他非營業收入費用\",\\n    \"Special Income Charges\": \"特殊收入費用\",\\n    \"Write Off\": \"註銷\",\\n    \"Net Non Operating Interest Income Expense\": \"淨非營業利息收入費用\",\\n    \"Interest Expense Non Operating\": \"非營業利息費用\",\\n    \"Interest Income Non Operating\": \"非營業利息收入\",\\n    \"Operating Income\": \"營業收入\",\\n    \"Operating Expense\": \"營業費用\",\\n    \"Other Operating Expenses\": \"其他營業費用\",\\n    \"Selling General And Administration\": \"銷售一般及行政\",\\n    \"Selling And Marketing Expense\": \"銷售和市場營銷費用\",\\n    \"General And Administrative Expense\": \"一般及行政費用\",\\n    \"Gross Profit\": \"毛利\",\\n    \"Cost Of Revenue\": \"收入成本\",\\n    \"Total Revenue\": \"總收入\",\\n    \"Operating Revenue\": \"營業收入\"\\n}'"
      ]
     },
     "execution_count": 14,
     "metadata": {},
     "output_type": "execute_result"
    }
   ],
   "source": [
    "balancesheet_terms = {\n",
    "    \"Treasury Shares Number\": \"庫存股數量\",\n",
    "    \"Ordinary Shares Number\": \"普通股數量\",\n",
    "    \"Share Issued\": \"已發行股份\",\n",
    "    \"Net Debt\": \"淨債務\",\n",
    "    \"Total Debt\": \"總債務\",\n",
    "    \"Tangible Book Value\": \"有形賬麵價值\",\n",
    "    \"Invested Capital\": \"投資資本\",\n",
    "    \"Working Capital\": \"營運資金\",\n",
    "    \"Net Tangible Assets\": \"有形資產凈值\",\n",
    "    \"Capital Lease Obligations\": \"資本租賃義務\",\n",
    "    \"Common Stock Equity\": \"普通股權益\",\n",
    "    \"Total Capitalization\": \"總資本\",\n",
    "    \"Total Equity Gross Minority Interest\": \"總權益毛少數股權\",\n",
    "    \"Minority Interest\": \"少數股權\",\n",
    "    \"Stockholders Equity\": \"股東權益\",\n",
    "    \"Other Equity Interest\": \"其他權益\",\n",
    "    \"Treasury Stock\": \"庫藏股\",\n",
    "    \"Retained Earnings\": \"保留盈餘\",\n",
    "    \"Additional Paid In Capital\": \"額外支付的資本\",\n",
    "    \"Capital Stock\": \"資本股\",\n",
    "    \"Common Stock\": \"普通股\",\n",
    "    \"Total Liabilities Net Minority Interest\": \"總負債淨少數股權\",\n",
    "    \"Total Non Current Liabilities Net Minority Interest\": \"總非流動負債淨少數股權\",\n",
    "    \"Other Non Current Liabilities\": \"其他非流動負債\",\n",
    "    \"Non Current Pension And Other Postretirement Benefit Plans\": \"非流動養老金和其他退休福利計劃\",\n",
    "    \"Non Current Deferred Taxes Liabilities\": \"非流動遞延稅負債\",\n",
    "    \"Long Term Debt And Capital Lease Obligation\": \"長期債務和資本租賃義務\",\n",
    "    \"Long Term Capital Lease Obligation\": \"長期資本租賃義務\",\n",
    "    \"Current Liabilities\": \"流動負債\",\n",
    "    \"Other Current Liabilities\": \"其他流動負債\",\n",
    "    \"Current Debt And Capital Lease Obligation\": \"流動債務和資本租賃義務\",\n",
    "    \"Current Capital Lease Obligation\": \"流動資本租賃義務\",\n",
    "    \"Current Debt\": \"流動債務\",\n",
    "    \"Current Provisions\": \"流動準備\",\n",
    "    \"Payables\": \"應付賬款\",\n",
    "    \"Other Payable\": \"其他應付款\",\n",
    "    \"Total Tax Payable\": \"應付稅款總額\",\n",
    "    \"Accounts Payable\": \"應付賬款\",\n",
    "    \"Total Assets\": \"總資產\",\n",
    "    \"Total Non Current Assets\": \"總非流動資產\",\n",
    "    \"Defined Pension Benefit\": \"確定的養老金福利\",\n",
    "    \"Non Current Prepaid Assets\": \"非流動預付資產\",\n",
    "    \"Non Current Deferred Taxes Assets\": \"非流動遞延稅資產\",\n",
    "    \"Investmentin Financial Assets\": \"金融資產投資\",\n",
    "    \"Available For Sale Securities\": \"可供出售證券\",\n",
    "    \"Long Term Equity Investment\": \"長期權益投資\",\n",
    "    \"Investment Properties\": \"投資性房地產\",\n",
    "    \"Goodwill And Other Intangible Assets\": \"商譽和其他無形資產\",\n",
    "    \"Net PPE\": \"淨物業、廠房和設備\",\n",
    "    \"Gross PPE\": \"總物業、廠房和設備\",\n",
    "    \"Construction In Progress\": \"在建工程\",\n",
    "    \"Other Properties\": \"其他物業\",\n",
    "    \"Current Assets\": \"流動資產\",\n",
    "    \"Other Current Assets\": \"其他流動資產\",\n",
    "    \"Prepaid Assets\": \"預付資產\",\n",
    "    \"Inventory\": \"庫存\",\n",
    "    \"Other Receivables\": \"其他應收款\",\n",
    "    \"Accounts Receivable\": \"應收賬款\",\n",
    "    \"Gross Accounts Receivable\": \"應收賬款總額\",\n",
    "    \"Cash Cash Equivalents And Short Term Investments\": \"現金、現金等價物和短期投資\",\n",
    "    \"Other Short Term Investments\": \"其他短期投資\",\n",
    "    \"Cash And Cash Equivalents\": \"現金及現金等價物\"\n",
    "}\n",
    "\n",
    "# Convert the Python dictionary to a JSON string\n",
    "balancesheet_terms_json = json.dumps(incomestatement_terms, ensure_ascii=False, indent=4)\n",
    "balancesheet_terms_json"
   ]
  },
  {
   "cell_type": "code",
   "execution_count": 15,
   "metadata": {},
   "outputs": [],
   "source": [
    "with open(\"terms/balancesheet_terms.json\", \"w\", encoding=\"UTF-8\") as file:\n",
    "    file.write(balancesheet_terms_json)"
   ]
  }
 ],
 "metadata": {
  "kernelspec": {
   "display_name": "workEnv",
   "language": "python",
   "name": "python3"
  },
  "language_info": {
   "codemirror_mode": {
    "name": "ipython",
    "version": 3
   },
   "file_extension": ".py",
   "mimetype": "text/x-python",
   "name": "python",
   "nbconvert_exporter": "python",
   "pygments_lexer": "ipython3",
   "version": "3.11.3"
  }
 },
 "nbformat": 4,
 "nbformat_minor": 2
}
